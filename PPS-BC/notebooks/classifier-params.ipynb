{
  "nbformat": 4,
  "nbformat_minor": 0,
  "metadata": {
    "colab": {
      "provenance": [],
      "gpuType": "T4"
    },
    "kernelspec": {
      "name": "python3",
      "display_name": "Python 3"
    },
    "language_info": {
      "name": "python"
    },
    "accelerator": "GPU"
  },
  "cells": [
    {
      "cell_type": "markdown",
      "metadata": {
        "id": "QA7aKxzSGeSN"
      },
      "source": [
        "<div style=\"text-align: center;\">\n",
        "    <h1>PROJECT P8\n",
        "    <h1><b>Patient Preferences Studies Categorization System</b></h1>\n",
        "    <h3>Applied Data Science Project</h3>\n",
        "    <h5>Francesco Giuseppe Gillio</h5>\n",
        "    <h5>César Augusto Seminario Yrigoyen</h5>\n",
        "</div>\n",
        "\n",
        "<div style=\"text-align: center;\">\n",
        "    <img src=\"https://upload.wikimedia.org/wikipedia/it/4/47/Logo_PoliTo_dal_2021_blu.png\" width=\"250\">\n",
        "</div>"
      ]
    },
    {
      "cell_type": "markdown",
      "source": [
        "https://github.com/adsp-polito/2024-P8-PPS"
      ],
      "metadata": {
        "id": "8a097sYhJjD0"
      }
    },
    {
      "cell_type": "markdown",
      "source": [
        "# **set-up**"
      ],
      "metadata": {
        "id": "f7SJio-Y-trk"
      }
    },
    {
      "cell_type": "code",
      "source": [
        "import os"
      ],
      "metadata": {
        "id": "UiMaE3dJ4DR4"
      },
      "execution_count": 1,
      "outputs": []
    },
    {
      "cell_type": "code",
      "execution_count": 2,
      "metadata": {
        "id": "49i8w4nJnpsR",
        "colab": {
          "base_uri": "https://localhost:8080/"
        },
        "outputId": "4807677d-69a8-4203-ba00-331dd72f6338"
      },
      "outputs": [
        {
          "output_type": "stream",
          "name": "stdout",
          "text": [
            "Mounted at /content/drive\n"
          ]
        }
      ],
      "source": [
        "from google.colab import drive\n",
        "drive.mount('/content/drive')"
      ]
    },
    {
      "cell_type": "code",
      "source": [
        "main = '/content/drive/MyDrive/classifier-params'\n",
        "if not os.path.exists(main):\n",
        "    os.makedirs(main)"
      ],
      "metadata": {
        "id": "hTxXc1jU3yh3"
      },
      "execution_count": 3,
      "outputs": []
    },
    {
      "cell_type": "code",
      "source": [
        "branch = os.path.join('/content/drive/MyDrive/classifier-params', 'data')\n",
        "if not os.path.exists(branch):\n",
        "    os.makedirs(branch)\n",
        "\n",
        "branch = os.path.join('/content/drive/MyDrive/classifier-params', 'tests')\n",
        "if not os.path.exists(branch):\n",
        "    os.makedirs(branch)"
      ],
      "metadata": {
        "id": "RSdar6pgA_0x"
      },
      "execution_count": 4,
      "outputs": []
    },
    {
      "cell_type": "code",
      "source": [
        "import warnings\n",
        "warnings.filterwarnings('ignore')"
      ],
      "metadata": {
        "id": "slyxHunCC6KV"
      },
      "execution_count": 5,
      "outputs": []
    },
    {
      "cell_type": "markdown",
      "source": [
        "# **sentence-transformers/pubmedbert-base-embeddings**"
      ],
      "metadata": {
        "id": "LkHQmHD5t0zO"
      }
    },
    {
      "cell_type": "code",
      "source": [
        "import pandas as pd"
      ],
      "metadata": {
        "id": "frGIfz0jzTYR"
      },
      "execution_count": 6,
      "outputs": []
    },
    {
      "cell_type": "code",
      "source": [
        "!git lfs install"
      ],
      "metadata": {
        "colab": {
          "base_uri": "https://localhost:8080/"
        },
        "id": "Cus7NMAW0dfO",
        "outputId": "6ff15df1-97a3-4bc0-b32b-94eae2d9af5d"
      },
      "execution_count": 7,
      "outputs": [
        {
          "output_type": "stream",
          "name": "stdout",
          "text": [
            "Git LFS initialized.\n"
          ]
        }
      ]
    },
    {
      "cell_type": "code",
      "source": [
        "!git clone https://github.com/adsp-polito/2024-P8-PPS.git\n",
        "%cd 2024-P8-PPS\n",
        "\n",
        "!git lfs pull"
      ],
      "metadata": {
        "colab": {
          "base_uri": "https://localhost:8080/"
        },
        "id": "dKRSFv-P0aSD",
        "outputId": "34d394d4-cffd-467c-bf26-bd5f8eec8ad1"
      },
      "execution_count": 8,
      "outputs": [
        {
          "output_type": "stream",
          "name": "stdout",
          "text": [
            "Cloning into '2024-P8-PPS'...\n",
            "remote: Enumerating objects: 178, done.\u001b[K\n",
            "remote: Counting objects: 100% (83/83), done.\u001b[K\n",
            "remote: Compressing objects: 100% (67/67), done.\u001b[K\n",
            "remote: Total 178 (delta 27), reused 58 (delta 13), pack-reused 95 (from 1)\u001b[K\n",
            "Receiving objects: 100% (178/178), 190.24 MiB | 16.80 MiB/s, done.\n",
            "Resolving deltas: 100% (54/54), done.\n",
            "/content/2024-P8-PPS\n"
          ]
        }
      ]
    },
    {
      "cell_type": "code",
      "source": [
        "embeddings = '/content/2024-P8-PPS/PPS-BC/bert-base-embeddings/models/sentence-transformers/pubmedbert-base-embeddings-articles-2023.pkl'\n",
        "data = pd.read_pickle(embeddings)"
      ],
      "metadata": {
        "id": "mIqY-DWf0yMN"
      },
      "execution_count": 9,
      "outputs": []
    },
    {
      "cell_type": "markdown",
      "source": [
        "pubmedbert-base-embeddings-**text-concatenation**"
      ],
      "metadata": {
        "id": "MDbgWzXGsGz0"
      }
    },
    {
      "cell_type": "code",
      "source": [
        "data = data[['Title', 'Abstract', 'Label', 'pubmedbert-base-embeddings-text-concatenation']]"
      ],
      "metadata": {
        "id": "zVIF33JnlOpj"
      },
      "execution_count": 10,
      "outputs": []
    },
    {
      "cell_type": "code",
      "source": [
        "data.head()"
      ],
      "metadata": {
        "id": "rJbyS8zAkeOv",
        "colab": {
          "base_uri": "https://localhost:8080/",
          "height": 206
        },
        "outputId": "af8e1f55-4e67-422f-c4de-6ab772124163"
      },
      "execution_count": 11,
      "outputs": [
        {
          "output_type": "execute_result",
          "data": {
            "text/plain": [
              "                                               Title  \\\n",
              "0  Preferences for disease-related information an...   \n",
              "1              Advance Care Planning in South Korea.   \n",
              "2  Stakeholders' preferences for the design and d...   \n",
              "3  Discrete Choice Experiments in Health State Va...   \n",
              "4  Improving methods of clinical practice guideli...   \n",
              "\n",
              "                                            Abstract  Label  \\\n",
              "0  PURPOSE: The transition towards adult-focused ...      0   \n",
              "1  South Korea is an Asian country with a very lo...      0   \n",
              "2  This systematic review aimed to synthesise evi...      1   \n",
              "3  BACKGROUND: Discrete choice experiments (DCEs)...      1   \n",
              "4  BACKGROUND: Current methods for developing cli...      0   \n",
              "\n",
              "       pubmedbert-base-embeddings-text-concatenation  \n",
              "0  [-0.38423112, -0.30039778, -0.29578313, -0.637...  \n",
              "1  [-0.38796002, -0.056877185, 0.90112704, -0.154...  \n",
              "2  [0.15675779, -0.44729438, -0.13902816, -0.1211...  \n",
              "3  [0.20540375, -0.696071, -0.4694253, 0.22151224...  \n",
              "4  [-0.23814784, -0.18566483, -0.26961714, -0.276...  "
            ],
            "text/html": [
              "\n",
              "  <div id=\"df-e194f0f0-4cfc-4998-95a2-5dd26873f1ac\" class=\"colab-df-container\">\n",
              "    <div>\n",
              "<style scoped>\n",
              "    .dataframe tbody tr th:only-of-type {\n",
              "        vertical-align: middle;\n",
              "    }\n",
              "\n",
              "    .dataframe tbody tr th {\n",
              "        vertical-align: top;\n",
              "    }\n",
              "\n",
              "    .dataframe thead th {\n",
              "        text-align: right;\n",
              "    }\n",
              "</style>\n",
              "<table border=\"1\" class=\"dataframe\">\n",
              "  <thead>\n",
              "    <tr style=\"text-align: right;\">\n",
              "      <th></th>\n",
              "      <th>Title</th>\n",
              "      <th>Abstract</th>\n",
              "      <th>Label</th>\n",
              "      <th>pubmedbert-base-embeddings-text-concatenation</th>\n",
              "    </tr>\n",
              "  </thead>\n",
              "  <tbody>\n",
              "    <tr>\n",
              "      <th>0</th>\n",
              "      <td>Preferences for disease-related information an...</td>\n",
              "      <td>PURPOSE: The transition towards adult-focused ...</td>\n",
              "      <td>0</td>\n",
              "      <td>[-0.38423112, -0.30039778, -0.29578313, -0.637...</td>\n",
              "    </tr>\n",
              "    <tr>\n",
              "      <th>1</th>\n",
              "      <td>Advance Care Planning in South Korea.</td>\n",
              "      <td>South Korea is an Asian country with a very lo...</td>\n",
              "      <td>0</td>\n",
              "      <td>[-0.38796002, -0.056877185, 0.90112704, -0.154...</td>\n",
              "    </tr>\n",
              "    <tr>\n",
              "      <th>2</th>\n",
              "      <td>Stakeholders' preferences for the design and d...</td>\n",
              "      <td>This systematic review aimed to synthesise evi...</td>\n",
              "      <td>1</td>\n",
              "      <td>[0.15675779, -0.44729438, -0.13902816, -0.1211...</td>\n",
              "    </tr>\n",
              "    <tr>\n",
              "      <th>3</th>\n",
              "      <td>Discrete Choice Experiments in Health State Va...</td>\n",
              "      <td>BACKGROUND: Discrete choice experiments (DCEs)...</td>\n",
              "      <td>1</td>\n",
              "      <td>[0.20540375, -0.696071, -0.4694253, 0.22151224...</td>\n",
              "    </tr>\n",
              "    <tr>\n",
              "      <th>4</th>\n",
              "      <td>Improving methods of clinical practice guideli...</td>\n",
              "      <td>BACKGROUND: Current methods for developing cli...</td>\n",
              "      <td>0</td>\n",
              "      <td>[-0.23814784, -0.18566483, -0.26961714, -0.276...</td>\n",
              "    </tr>\n",
              "  </tbody>\n",
              "</table>\n",
              "</div>\n",
              "    <div class=\"colab-df-buttons\">\n",
              "\n",
              "  <div class=\"colab-df-container\">\n",
              "    <button class=\"colab-df-convert\" onclick=\"convertToInteractive('df-e194f0f0-4cfc-4998-95a2-5dd26873f1ac')\"\n",
              "            title=\"Convert this dataframe to an interactive table.\"\n",
              "            style=\"display:none;\">\n",
              "\n",
              "  <svg xmlns=\"http://www.w3.org/2000/svg\" height=\"24px\" viewBox=\"0 -960 960 960\">\n",
              "    <path d=\"M120-120v-720h720v720H120Zm60-500h600v-160H180v160Zm220 220h160v-160H400v160Zm0 220h160v-160H400v160ZM180-400h160v-160H180v160Zm440 0h160v-160H620v160ZM180-180h160v-160H180v160Zm440 0h160v-160H620v160Z\"/>\n",
              "  </svg>\n",
              "    </button>\n",
              "\n",
              "  <style>\n",
              "    .colab-df-container {\n",
              "      display:flex;\n",
              "      gap: 12px;\n",
              "    }\n",
              "\n",
              "    .colab-df-convert {\n",
              "      background-color: #E8F0FE;\n",
              "      border: none;\n",
              "      border-radius: 50%;\n",
              "      cursor: pointer;\n",
              "      display: none;\n",
              "      fill: #1967D2;\n",
              "      height: 32px;\n",
              "      padding: 0 0 0 0;\n",
              "      width: 32px;\n",
              "    }\n",
              "\n",
              "    .colab-df-convert:hover {\n",
              "      background-color: #E2EBFA;\n",
              "      box-shadow: 0px 1px 2px rgba(60, 64, 67, 0.3), 0px 1px 3px 1px rgba(60, 64, 67, 0.15);\n",
              "      fill: #174EA6;\n",
              "    }\n",
              "\n",
              "    .colab-df-buttons div {\n",
              "      margin-bottom: 4px;\n",
              "    }\n",
              "\n",
              "    [theme=dark] .colab-df-convert {\n",
              "      background-color: #3B4455;\n",
              "      fill: #D2E3FC;\n",
              "    }\n",
              "\n",
              "    [theme=dark] .colab-df-convert:hover {\n",
              "      background-color: #434B5C;\n",
              "      box-shadow: 0px 1px 3px 1px rgba(0, 0, 0, 0.15);\n",
              "      filter: drop-shadow(0px 1px 2px rgba(0, 0, 0, 0.3));\n",
              "      fill: #FFFFFF;\n",
              "    }\n",
              "  </style>\n",
              "\n",
              "    <script>\n",
              "      const buttonEl =\n",
              "        document.querySelector('#df-e194f0f0-4cfc-4998-95a2-5dd26873f1ac button.colab-df-convert');\n",
              "      buttonEl.style.display =\n",
              "        google.colab.kernel.accessAllowed ? 'block' : 'none';\n",
              "\n",
              "      async function convertToInteractive(key) {\n",
              "        const element = document.querySelector('#df-e194f0f0-4cfc-4998-95a2-5dd26873f1ac');\n",
              "        const dataTable =\n",
              "          await google.colab.kernel.invokeFunction('convertToInteractive',\n",
              "                                                    [key], {});\n",
              "        if (!dataTable) return;\n",
              "\n",
              "        const docLinkHtml = 'Like what you see? Visit the ' +\n",
              "          '<a target=\"_blank\" href=https://colab.research.google.com/notebooks/data_table.ipynb>data table notebook</a>'\n",
              "          + ' to learn more about interactive tables.';\n",
              "        element.innerHTML = '';\n",
              "        dataTable['output_type'] = 'display_data';\n",
              "        await google.colab.output.renderOutput(dataTable, element);\n",
              "        const docLink = document.createElement('div');\n",
              "        docLink.innerHTML = docLinkHtml;\n",
              "        element.appendChild(docLink);\n",
              "      }\n",
              "    </script>\n",
              "  </div>\n",
              "\n",
              "\n",
              "<div id=\"df-6a4d7487-0fca-47f5-a33e-d14d8acbf387\">\n",
              "  <button class=\"colab-df-quickchart\" onclick=\"quickchart('df-6a4d7487-0fca-47f5-a33e-d14d8acbf387')\"\n",
              "            title=\"Suggest charts\"\n",
              "            style=\"display:none;\">\n",
              "\n",
              "<svg xmlns=\"http://www.w3.org/2000/svg\" height=\"24px\"viewBox=\"0 0 24 24\"\n",
              "     width=\"24px\">\n",
              "    <g>\n",
              "        <path d=\"M19 3H5c-1.1 0-2 .9-2 2v14c0 1.1.9 2 2 2h14c1.1 0 2-.9 2-2V5c0-1.1-.9-2-2-2zM9 17H7v-7h2v7zm4 0h-2V7h2v10zm4 0h-2v-4h2v4z\"/>\n",
              "    </g>\n",
              "</svg>\n",
              "  </button>\n",
              "\n",
              "<style>\n",
              "  .colab-df-quickchart {\n",
              "      --bg-color: #E8F0FE;\n",
              "      --fill-color: #1967D2;\n",
              "      --hover-bg-color: #E2EBFA;\n",
              "      --hover-fill-color: #174EA6;\n",
              "      --disabled-fill-color: #AAA;\n",
              "      --disabled-bg-color: #DDD;\n",
              "  }\n",
              "\n",
              "  [theme=dark] .colab-df-quickchart {\n",
              "      --bg-color: #3B4455;\n",
              "      --fill-color: #D2E3FC;\n",
              "      --hover-bg-color: #434B5C;\n",
              "      --hover-fill-color: #FFFFFF;\n",
              "      --disabled-bg-color: #3B4455;\n",
              "      --disabled-fill-color: #666;\n",
              "  }\n",
              "\n",
              "  .colab-df-quickchart {\n",
              "    background-color: var(--bg-color);\n",
              "    border: none;\n",
              "    border-radius: 50%;\n",
              "    cursor: pointer;\n",
              "    display: none;\n",
              "    fill: var(--fill-color);\n",
              "    height: 32px;\n",
              "    padding: 0;\n",
              "    width: 32px;\n",
              "  }\n",
              "\n",
              "  .colab-df-quickchart:hover {\n",
              "    background-color: var(--hover-bg-color);\n",
              "    box-shadow: 0 1px 2px rgba(60, 64, 67, 0.3), 0 1px 3px 1px rgba(60, 64, 67, 0.15);\n",
              "    fill: var(--button-hover-fill-color);\n",
              "  }\n",
              "\n",
              "  .colab-df-quickchart-complete:disabled,\n",
              "  .colab-df-quickchart-complete:disabled:hover {\n",
              "    background-color: var(--disabled-bg-color);\n",
              "    fill: var(--disabled-fill-color);\n",
              "    box-shadow: none;\n",
              "  }\n",
              "\n",
              "  .colab-df-spinner {\n",
              "    border: 2px solid var(--fill-color);\n",
              "    border-color: transparent;\n",
              "    border-bottom-color: var(--fill-color);\n",
              "    animation:\n",
              "      spin 1s steps(1) infinite;\n",
              "  }\n",
              "\n",
              "  @keyframes spin {\n",
              "    0% {\n",
              "      border-color: transparent;\n",
              "      border-bottom-color: var(--fill-color);\n",
              "      border-left-color: var(--fill-color);\n",
              "    }\n",
              "    20% {\n",
              "      border-color: transparent;\n",
              "      border-left-color: var(--fill-color);\n",
              "      border-top-color: var(--fill-color);\n",
              "    }\n",
              "    30% {\n",
              "      border-color: transparent;\n",
              "      border-left-color: var(--fill-color);\n",
              "      border-top-color: var(--fill-color);\n",
              "      border-right-color: var(--fill-color);\n",
              "    }\n",
              "    40% {\n",
              "      border-color: transparent;\n",
              "      border-right-color: var(--fill-color);\n",
              "      border-top-color: var(--fill-color);\n",
              "    }\n",
              "    60% {\n",
              "      border-color: transparent;\n",
              "      border-right-color: var(--fill-color);\n",
              "    }\n",
              "    80% {\n",
              "      border-color: transparent;\n",
              "      border-right-color: var(--fill-color);\n",
              "      border-bottom-color: var(--fill-color);\n",
              "    }\n",
              "    90% {\n",
              "      border-color: transparent;\n",
              "      border-bottom-color: var(--fill-color);\n",
              "    }\n",
              "  }\n",
              "</style>\n",
              "\n",
              "  <script>\n",
              "    async function quickchart(key) {\n",
              "      const quickchartButtonEl =\n",
              "        document.querySelector('#' + key + ' button');\n",
              "      quickchartButtonEl.disabled = true;  // To prevent multiple clicks.\n",
              "      quickchartButtonEl.classList.add('colab-df-spinner');\n",
              "      try {\n",
              "        const charts = await google.colab.kernel.invokeFunction(\n",
              "            'suggestCharts', [key], {});\n",
              "      } catch (error) {\n",
              "        console.error('Error during call to suggestCharts:', error);\n",
              "      }\n",
              "      quickchartButtonEl.classList.remove('colab-df-spinner');\n",
              "      quickchartButtonEl.classList.add('colab-df-quickchart-complete');\n",
              "    }\n",
              "    (() => {\n",
              "      let quickchartButtonEl =\n",
              "        document.querySelector('#df-6a4d7487-0fca-47f5-a33e-d14d8acbf387 button');\n",
              "      quickchartButtonEl.style.display =\n",
              "        google.colab.kernel.accessAllowed ? 'block' : 'none';\n",
              "    })();\n",
              "  </script>\n",
              "</div>\n",
              "\n",
              "    </div>\n",
              "  </div>\n"
            ],
            "application/vnd.google.colaboratory.intrinsic+json": {
              "type": "dataframe",
              "variable_name": "data",
              "summary": "{\n  \"name\": \"data\",\n  \"rows\": 1215,\n  \"fields\": [\n    {\n      \"column\": \"Title\",\n      \"properties\": {\n        \"dtype\": \"string\",\n        \"num_unique_values\": 1214,\n        \"samples\": [\n          \"Patient motivators to use opioids for acute pain after emergency care.\",\n          \"The Relative Importance of Factors That Applicants Weigh When Ranking Adult Reconstruction Fellowships as Well as Their Perspectives on Robotic-Assisted Arthroplasty.\",\n          \"Similar Midterm Outcomes of Total Knee Arthroplasties with Anterior and Posterior Tibial Slopes Performed on Paired Knees at a Minimum Follow-up of 5 Years.\"\n        ],\n        \"semantic_type\": \"\",\n        \"description\": \"\"\n      }\n    },\n    {\n      \"column\": \"Abstract\",\n      \"properties\": {\n        \"dtype\": \"string\",\n        \"num_unique_values\": 1171,\n        \"samples\": [\n          \"BACKGROUND: Treatment options for patients with metastatic hormone-sensitive prostate cancer (mHSPC) have broadened, and treatment decisions can have a long-lasting impact on patients' quality of life. Data on patient preferences can improve therapeutic decision-making by helping physicians suggest treatments that align with patients' values and needs. OBJECTIVE: This study aims to quantify patient preferences for attributes of chemohormonal therapies among patients with mHSPC in the USA, Canada, and the UK. METHODS: A discrete-choice experiment survey instrument was developed and administered to patients with high- and very-high-risk localized prostate cancer and mHSPC. Patients chose between baseline androgen-deprivation therapy (ADT) alone and experimentally designed, hypothetical treatment alternatives representing chemohormonal therapies. Choices were analyzed using logit models to derive the\\u00a0relative importance of attributes for each country and to evaluate differences and similarities among patients across countries. RESULTS: A total of 550 respondents completed the survey (USA, 200; Canada, 200; UK, 150); the mean age of respondents was 64.3 years. Treatment choices revealed that patients were most concerned with treatment efficacy. However, treatment-related convenience factors, such as route of drug administration and frequency of monitoring visits, were as important as some treatment-related side effects, such as skin rash, nausea, and fatigue. Patient preferences across countries were similar, although patients in Canada appeared to be more affected by concomitant steroid use. CONCLUSION: Patients with mHSPC believe the use of ADT alone is insufficient when more effective treatments are available. Efficacy is the most significant driver of patient choices. Treatment-related convenience factors can be as important as safety concerns for patients.\",\n          \"BACKGROUND: Participation in airway clearance techniques (ACT) is important to minimise development of irreversible airway obstruction in patients with cystic fibrosis (CF). Positive expiratory pressure (PEP) and expiratory resistance devices (ERD) are often used as they can improve collateral ventilation and aid in the shearing of mucus from airways. This project looked to identify whether utilising an ERD during a forced expiration technique (FET) improves ease of expectoration, sputum amount and coughing frequency in patients with CF. METHOD: Patients with CF admitted for a respiratory exacerbation completed two sessions of 10 cycles of their usual ACT with half of the FET components performed with an ERD, half with FET alone. RESULTS: EOE, sputum wet weight, cough frequency and patient preference were similar between groups. Improved EOE without the ERD was found in participants who usually use PEP for their ACT regime. CONCLUSION: Combining the FET with a PEP mask did not improve EOE and other outcomes in this small study. Investigating the efficacy of this technique within a larger population is warranted.\",\n          \"KEY POINTS: A large proportion of hospitalized patients receiving dialysis report not receiving preference-concordant care. Hospitalized patients on dialysis desiring a comfort-oriented medical plan were likely to report receiving preference-concordant care. BACKGROUND: Preference-concordant care is a cornerstone of high-quality medical decision-making, yet the prevalence and correlates of preference-concordant care have not been well-studied in patients receiving dialysis. We surveyed hospitalized people receiving maintenance dialysis to estimate the prevalence and correlates of preference-concordant care among this population. METHODS: We assessed preference concordance by asking participants (223/380, 59% response rate), \\u201cHow strongly do you agree or disagree that your current treatment plan meets your preference?\\u201d We assessed treatment plan preference by asking whether patients preferred a plan that focused on (1) extending life or (2) relieving pain and discomfort. We assessed shared dialysis decision-making using the 9-item Shared Decision-Making Questionnaire. We examined the differences between those reporting lack of preference-concordant care and those reporting receipt of preference-concordant care using chi-squared analyses. We also studied whether patients' treatment plan preferences or shared dialysis decision-making scores were correlated with their likelihood of receiving preference-concordant care. RESULTS: Of the 213 respondents who provided data on preference concordance, 90 (42.3%) reported that they were not receiving preference-concordant care. Patients who preferred pain and discomfort relief over life extension were less likely (odds ratio, 0.15 [95% confidence interval, 0.08 to 0.28] P = <0.0001) to report receiving preference-concordant care; patients with higher shared decision-making scores were more likely (odds ratio, 1.02 [95% confidence interval, 1.01 to 1.03], P = 0.02) to report preference-concordant care. CONCLUSIONS: A substantial proportion of this sample of hospitalized people receiving maintenance dialysis reported not receiving preference-concordant care. Efforts to improve symptom management and enhance patient engagement in dialysis decision-making may improve the patients' perceptions of receiving preference-concordant care.\"\n        ],\n        \"semantic_type\": \"\",\n        \"description\": \"\"\n      }\n    },\n    {\n      \"column\": \"Label\",\n      \"properties\": {\n        \"dtype\": \"number\",\n        \"std\": 0,\n        \"min\": 0,\n        \"max\": 1,\n        \"num_unique_values\": 2,\n        \"samples\": [\n          1,\n          0\n        ],\n        \"semantic_type\": \"\",\n        \"description\": \"\"\n      }\n    },\n    {\n      \"column\": \"pubmedbert-base-embeddings-text-concatenation\",\n      \"properties\": {\n        \"dtype\": \"object\",\n        \"semantic_type\": \"\",\n        \"description\": \"\"\n      }\n    }\n  ]\n}"
            }
          },
          "metadata": {},
          "execution_count": 11
        }
      ]
    },
    {
      "cell_type": "code",
      "source": [
        "data.to_pickle('/content/drive/MyDrive/classifier-params/data/pubmedbert-base-embeddings-text-concatenation-articles-2023.pkl')"
      ],
      "metadata": {
        "id": "fBNKxUa3XiwL"
      },
      "execution_count": 12,
      "outputs": []
    },
    {
      "cell_type": "markdown",
      "source": [
        "# **scikit-learn/multi-layer-perceptron**\n",
        "<img src=\"https://scikit-learn.org/1.5/_images/multilayerperceptron_network.png\" width=\"250\">"
      ],
      "metadata": {
        "id": "aTpv2tUU6xZ-"
      }
    },
    {
      "cell_type": "code",
      "source": [
        "import time"
      ],
      "metadata": {
        "id": "1qxsFZedH0zG"
      },
      "execution_count": 13,
      "outputs": []
    },
    {
      "cell_type": "code",
      "source": [
        "import joblib"
      ],
      "metadata": {
        "id": "sSi917AWxqRk"
      },
      "execution_count": 14,
      "outputs": []
    },
    {
      "cell_type": "code",
      "source": [
        "import numpy as np\n",
        "import pandas as pd"
      ],
      "metadata": {
        "id": "rYjkIb5r7NO4"
      },
      "execution_count": 15,
      "outputs": []
    },
    {
      "cell_type": "code",
      "source": [
        "from contextlib import redirect_stdout"
      ],
      "metadata": {
        "id": "C4oQIRbFnP90"
      },
      "execution_count": 16,
      "outputs": []
    },
    {
      "cell_type": "code",
      "source": [
        "from itertools import product\n",
        "from sklearn.pipeline import Pipeline\n",
        "from sklearn.preprocessing import StandardScaler\n",
        "from sklearn.neural_network import MLPClassifier\n",
        "from sklearn.model_selection import train_test_split"
      ],
      "metadata": {
        "id": "2V-r2X1_nRRT"
      },
      "execution_count": 17,
      "outputs": []
    },
    {
      "cell_type": "code",
      "source": [
        "from sklearn.metrics import accuracy_score, precision_recall_fscore_support"
      ],
      "metadata": {
        "id": "e0-AqDnhnSis"
      },
      "execution_count": 18,
      "outputs": []
    },
    {
      "cell_type": "markdown",
      "source": [
        "* scikit-learn/multi-layer-perceptron-**fine-tune**"
      ],
      "metadata": {
        "id": "DR6e0DTunag1"
      }
    },
    {
      "cell_type": "code",
      "source": [
        "def tune(data, path):\n",
        "\n",
        "    hyperparameters = {\n",
        "        'hidden_layer_sizes': [\n",
        "            (64,),\n",
        "            (128, 64),\n",
        "            (256, 128, 64),\n",
        "            (512, 256, 128, 64)\n",
        "          ],  # default=(100,)\n",
        "        'activation': [\n",
        "            'relu',\n",
        "            'tanh'\n",
        "        ],  # default='relu'\n",
        "        'solver': [\n",
        "            'adam',\n",
        "            'sgd'\n",
        "        ],  # default='adam'\n",
        "        'alpha': [\n",
        "            0.001,\n",
        "            0.0001,\n",
        "            0.00001\n",
        "        ],  # default=0.0001\n",
        "        'learning_rate': [\n",
        "            'constant'\n",
        "        ],  # default='constant'\n",
        "        'learning_rate_init': [\n",
        "            0.01,\n",
        "            0.001,\n",
        "            0.0001\n",
        "        ],  # default=0.001\n",
        "        'max_iter': [\n",
        "            200,\n",
        "            500\n",
        "        ],  # default=200\n",
        "        'early_stopping': [\n",
        "            True,\n",
        "            False\n",
        "        ],  # default=False\n",
        "    }\n",
        "\n",
        "    with open(\n",
        "        path, \"w\",\n",
        "        encoding=\"utf-8\") as file:\n",
        "\n",
        "        with redirect_stdout(file):\n",
        "\n",
        "            y = data['Label']\n",
        "            x = np.array(data['pubmedbert-base-embeddings-text-concatenation'].tolist())\n",
        "\n",
        "            # split data into train (60%), validation (20%) and test (20%) sets\n",
        "            x_train, alpha, y_train, beta = train_test_split(\n",
        "                x, y, test_size=0.4, random_state=42, stratify=y\n",
        "            )\n",
        "            x_val, x_test, y_val, y_test = train_test_split(\n",
        "                alpha, beta, test_size=0.5, random_state=42, stratify=beta\n",
        "            )\n",
        "\n",
        "            combinations = product(*hyperparameters.values())\n",
        "\n",
        "            # iterate over combinations of hyperparameters\n",
        "            for combination in combinations:\n",
        "                start = time.time()\n",
        "\n",
        "                (\n",
        "                    hidden_layer_sizes, activation, solver, alpha,\n",
        "                    learning_rate, learning_rate_init, max_iter, early_stopping\n",
        "                ) = combination\n",
        "\n",
        "                mlp = MLPClassifier(\n",
        "                    hidden_layer_sizes=hidden_layer_sizes,\n",
        "                    activation=activation,\n",
        "                    solver=solver,\n",
        "                    alpha=alpha,\n",
        "                    learning_rate=learning_rate,\n",
        "                    learning_rate_init=learning_rate_init,\n",
        "                    max_iter=max_iter,\n",
        "                    early_stopping=early_stopping,\n",
        "                    random_state=42\n",
        "                )\n",
        "\n",
        "                pipeline = Pipeline([\n",
        "                    ('scaler', StandardScaler()),\n",
        "                    ('mlp', mlp)\n",
        "                ])\n",
        "\n",
        "                pipeline.fit(x_train, y_train)\n",
        "                validation = pipeline.score(x_val, y_val)\n",
        "\n",
        "                y_pred = pipeline.predict(x_test)\n",
        "\n",
        "                test = accuracy_score(y_test, y_pred)\n",
        "\n",
        "                print(f\"params: {combination}\")\n",
        "                print(f\"validation accuracy: {validation:.4f}\")\n",
        "                print(f\"test accuracy: {test:.4f}\")\n",
        "\n",
        "                # compute macro averages\n",
        "                precision, recall, f1, _ = precision_recall_fscore_support(y_test, y_pred,\n",
        "                                                                           average='macro')\n",
        "                print(f\"macro precision: {precision:.4f}\")\n",
        "                print(f\"macro recall: {recall:.4f}\")\n",
        "                print(f\"macro f1-score: {f1:.4f}\")\n",
        "\n",
        "                # compute weighted averages\n",
        "                precision, recall, f1, _ = precision_recall_fscore_support(y_test, y_pred,\n",
        "                                                                           average='weighted')\n",
        "                print(f\"weighted precision: {precision:.4f}\")\n",
        "                print(f\"weighted recall: {recall:.4f}\")\n",
        "                print(f\"weighted f1-score: {f1:.4f}\")\n",
        "\n",
        "                # compute the classification time\n",
        "                end = time.time()\n",
        "                total = end - start\n",
        "                minutes = int(total // 60)\n",
        "                seconds = int(total % 60)\n",
        "                print(f\"classification time: {minutes:02d}:{seconds:02d}\")\n",
        "\n",
        "                print(\"-\" * 50)"
      ],
      "metadata": {
        "id": "DrUtVenhwSPE"
      },
      "execution_count": 19,
      "outputs": []
    },
    {
      "cell_type": "code",
      "source": [
        "def extract(text):\n",
        "\n",
        "    data = []\n",
        "\n",
        "    with open(text, 'r') as file:\n",
        "        content = file.read().split('\\n')\n",
        "\n",
        "    params = None\n",
        "    metrics = {}\n",
        "\n",
        "    for line in content:\n",
        "        if not line.strip() or line.startswith('-'):\n",
        "            continue\n",
        "\n",
        "        if line.startswith('params:'):\n",
        "            if params:\n",
        "                data.append(metrics)\n",
        "            params = line.split(': ')[1].strip()\n",
        "            metrics = {'Params': params}\n",
        "\n",
        "        elif line.startswith('validation accuracy:'):\n",
        "            metrics['Validation Accuracy'] = float(line.split(': ')[1].strip())\n",
        "        elif line.startswith('test accuracy:'):\n",
        "            metrics['Test Accuracy'] = float(line.split(': ')[1].strip())\n",
        "        elif line.startswith('macro precision:'):\n",
        "            metrics['Macro Precision'] = float(line.split(': ')[1].strip())\n",
        "        elif line.startswith('macro recall:'):\n",
        "            metrics['Macro Recall'] = float(line.split(': ')[1].strip())\n",
        "        elif line.startswith('macro f1-score:'):\n",
        "            metrics['Macro F1'] = float(line.split(': ')[1].strip())\n",
        "        elif line.startswith('weighted precision:'):\n",
        "            metrics['Weighted Precision'] = float(line.split(': ')[1].strip())\n",
        "        elif line.startswith('weighted recall:'):\n",
        "            metrics['Weighted Recall'] = float(line.split(': ')[1].strip())\n",
        "        elif line.startswith('weighted f1-score:'):\n",
        "            metrics['Weighted F1'] = float(line.split(': ')[1].strip())\n",
        "        elif line.startswith('classification time:'):\n",
        "            time = line.split(':', 1)[1].strip()\n",
        "            metrics['Classification Time'] = time\n",
        "\n",
        "    if params:\n",
        "        data.append(metrics)\n",
        "\n",
        "    data = pd.DataFrame(data)\n",
        "\n",
        "    data = data.sort_values(by=['Macro F1', 'Macro Recall', 'Macro Precision', 'Test Accuracy', 'Validation Accuracy', 'Classification Time'], ascending=[False, False, False, False, False, True])\n",
        "\n",
        "    return data"
      ],
      "metadata": {
        "id": "VtVJZnDGpqJu"
      },
      "execution_count": 20,
      "outputs": []
    },
    {
      "cell_type": "markdown",
      "source": [
        "* **Store** into /content/drive/MyDrive/classifier-params/tests/"
      ],
      "metadata": {
        "id": "OAzOC6twn4kH"
      }
    },
    {
      "cell_type": "code",
      "source": [
        "tune(data, '/content/drive/MyDrive/classifier-params/tests/params-logs.txt')"
      ],
      "metadata": {
        "id": "2vwVeEyK2fQY"
      },
      "execution_count": 21,
      "outputs": []
    },
    {
      "cell_type": "code",
      "source": [
        "output = extract('/content/drive/MyDrive/classifier-params/tests/params-logs.txt')"
      ],
      "metadata": {
        "id": "SIslch932kwK"
      },
      "execution_count": 22,
      "outputs": []
    },
    {
      "cell_type": "code",
      "source": [
        "output.to_csv('/content/drive/MyDrive/classifier-params/tests/classifier-params.csv', index=False)"
      ],
      "metadata": {
        "id": "WOoxtBIg2nfT"
      },
      "execution_count": 23,
      "outputs": []
    },
    {
      "cell_type": "markdown",
      "source": [
        "* scikit-learn/multi-layer-perceptron-**train**"
      ],
      "metadata": {
        "id": "q8mAEadEDhtt"
      }
    },
    {
      "cell_type": "code",
      "source": [
        "def train(data, path):\n",
        "\n",
        "    # optimal hyperparameters:\n",
        "    hyperparameters = {\n",
        "        'hidden_layer_sizes': (128, 64),\n",
        "        'activation': 'tanh',\n",
        "        'solver': 'sgd',\n",
        "        'alpha': 0.001,\n",
        "        'learning_rate': 'constant',\n",
        "        'learning_rate_init': 0.01,\n",
        "        'max_iter': 500,\n",
        "        'early_stopping': False\n",
        "    }\n",
        "\n",
        "    with open(\n",
        "        path, \"w\",\n",
        "        encoding=\"utf-8\") as file:\n",
        "\n",
        "        with redirect_stdout(file):\n",
        "\n",
        "            y = data['Label']\n",
        "            x = np.array(data['pubmedbert-base-embeddings-text-concatenation'].tolist())\n",
        "\n",
        "            # split data into train (80%) and test (20%) sets\n",
        "            x_train, x_test, y_train, y_test = train_test_split(\n",
        "                x, y, test_size=0.2, random_state=42, stratify=y\n",
        "            )\n",
        "\n",
        "            # initialize the model\n",
        "            mlp = MLPClassifier(\n",
        "                hidden_layer_sizes=hyperparameters['hidden_layer_sizes'],\n",
        "                activation=hyperparameters['activation'],\n",
        "                solver=hyperparameters['solver'],\n",
        "                alpha=hyperparameters['alpha'],\n",
        "                learning_rate=hyperparameters['learning_rate'],\n",
        "                learning_rate_init=hyperparameters['learning_rate_init'],\n",
        "                max_iter=hyperparameters['max_iter'],\n",
        "                early_stopping=hyperparameters['early_stopping'],\n",
        "                random_state=42\n",
        "            )\n",
        "\n",
        "            pipeline = Pipeline([\n",
        "                ('scaler', StandardScaler()),\n",
        "                ('mlp', mlp)\n",
        "            ])\n",
        "\n",
        "            start = time.time()\n",
        "\n",
        "            pipeline.fit(x_train, y_train)\n",
        "\n",
        "            # evaluate the model on the test set\n",
        "            y_pred = pipeline.predict(x_test)\n",
        "            accuracy = accuracy_score(y_test, y_pred)\n",
        "\n",
        "            print(f\"accuracy: {accuracy:.4f}\")\n",
        "\n",
        "            # compute macro averages\n",
        "            precision, recall, f1, _ = precision_recall_fscore_support(y_test, y_pred,\n",
        "                                                                       average='macro')\n",
        "            print(f\"macro precision: {precision:.4f}\")\n",
        "            print(f\"macro recall: {recall:.4f}\")\n",
        "            print(f\"macro f1-score: {f1:.4f}\")\n",
        "\n",
        "            # compute weighted averages\n",
        "            precision, recall, f1, _ = precision_recall_fscore_support(y_test, y_pred,\n",
        "                                                                       average='weighted')\n",
        "            print(f\"weighted precision: {precision:.4f}\")\n",
        "            print(f\"weighted recall: {recall:.4f}\")\n",
        "            print(f\"weighted f1-score: {f1:.4f}\")\n",
        "\n",
        "            # compute the classification time\n",
        "            end = time.time()\n",
        "            total = end - start\n",
        "            minutes = int(total // 60)\n",
        "            seconds = int(total % 60)\n",
        "            print(f\"classification time: {minutes:02d}:{seconds:02d}\")\n",
        "\n",
        "            print(\"-\" * 50)\n",
        "\n",
        "    return pipeline"
      ],
      "metadata": {
        "id": "VjolzqEa_uJG"
      },
      "execution_count": 31,
      "outputs": []
    },
    {
      "cell_type": "code",
      "source": [
        "def extract(text):\n",
        "\n",
        "    data = []\n",
        "\n",
        "    with open(text, 'r') as file:\n",
        "        content = file.read().split('\\n')\n",
        "\n",
        "    metrics = {}\n",
        "\n",
        "    for line in content:\n",
        "        if not line.strip() or line.startswith('-'):\n",
        "            continue\n",
        "\n",
        "        if line.startswith('accuracy:'):\n",
        "            metrics['Accuracy'] = float(line.split(': ')[1].strip())\n",
        "        elif line.startswith('macro precision:'):\n",
        "            metrics['Macro Precision'] = float(line.split(': ')[1].strip())\n",
        "        elif line.startswith('macro recall:'):\n",
        "            metrics['Macro Recall'] = float(line.split(': ')[1].strip())\n",
        "        elif line.startswith('macro f1-score:'):\n",
        "            metrics['Macro F1'] = float(line.split(': ')[1].strip())\n",
        "        elif line.startswith('weighted precision:'):\n",
        "            metrics['Weighted Precision'] = float(line.split(': ')[1].strip())\n",
        "        elif line.startswith('weighted recall:'):\n",
        "            metrics['Weighted Recall'] = float(line.split(': ')[1].strip())\n",
        "        elif line.startswith('weighted f1-score:'):\n",
        "            metrics['Weighted F1'] = float(line.split(': ')[1].strip())\n",
        "        elif line.startswith('classification time:'):\n",
        "            time = line.split(':', 1)[1].strip()\n",
        "            metrics['Classification Time'] = time\n",
        "\n",
        "    metrics['Params'] = ((128, 64), 'tanh', 'sgd', 0.001, 'constant', 0.01, 500, False)\n",
        "\n",
        "    metrics = {'Params': metrics['Params'], **{key: metrics[key] for key in metrics if key != 'Params'}}\n",
        "\n",
        "    data.append(metrics)\n",
        "\n",
        "    data = pd.DataFrame(data)\n",
        "\n",
        "    return data"
      ],
      "metadata": {
        "id": "91RDzEypBSfa"
      },
      "execution_count": 32,
      "outputs": []
    },
    {
      "cell_type": "markdown",
      "source": [
        "* **Store** into /content/drive/MyDrive/classifier-params/tests/"
      ],
      "metadata": {
        "id": "1zEY-3FLDGtg"
      }
    },
    {
      "cell_type": "code",
      "source": [
        "model = train(data, '/content/drive/MyDrive/classifier-params/tests/optimal-params-logs.txt')"
      ],
      "metadata": {
        "id": "RZV9lqtMDGth"
      },
      "execution_count": 33,
      "outputs": []
    },
    {
      "cell_type": "code",
      "source": [
        "output = extract('/content/drive/MyDrive/classifier-params/tests/optimal-params-logs.txt')"
      ],
      "metadata": {
        "id": "oMEelflwDGth"
      },
      "execution_count": 34,
      "outputs": []
    },
    {
      "cell_type": "code",
      "source": [
        "output.to_csv('/content/drive/MyDrive/classifier-params/tests/optimal-classifier-params.csv', index=False)"
      ],
      "metadata": {
        "id": "ZEe7LMawDGth"
      },
      "execution_count": 35,
      "outputs": []
    },
    {
      "cell_type": "markdown",
      "source": [
        "* **Store** into /content/drive/MyDrive/classifier-params/"
      ],
      "metadata": {
        "id": "IewexdZBEx1E"
      }
    },
    {
      "cell_type": "code",
      "source": [
        "joblib.dump(model, '/content/drive/MyDrive/classifier-params/model.mdl')"
      ],
      "metadata": {
        "colab": {
          "base_uri": "https://localhost:8080/"
        },
        "id": "EHPtFVWwDuAM",
        "outputId": "f32601a3-f021-4609-f169-af52cd4e14a8"
      },
      "execution_count": 36,
      "outputs": [
        {
          "output_type": "execute_result",
          "data": {
            "text/plain": [
              "['/content/drive/MyDrive/classifier-params/model.mdl']"
            ]
          },
          "metadata": {},
          "execution_count": 36
        }
      ]
    }
  ]
}